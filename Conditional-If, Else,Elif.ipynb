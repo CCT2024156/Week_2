{
 "cells": [
  {
   "cell_type": "markdown",
   "id": "17b88e20",
   "metadata": {},
   "source": [
    "## Boolean- Bool\n",
    "\n",
    "True\n",
    "False"
   ]
  },
  {
   "cell_type": "markdown",
   "id": "55545c12",
   "metadata": {},
   "source": [
    "## Comprison Operators\n",
    "-equality == (nb two ==)\n",
    "-inequality !=\n",
    "-less than <\n",
    "-Greater than >\n",
    "-Less than or equal <=\n",
    "-Greater than or equal >="
   ]
  },
  {
   "cell_type": "markdown",
   "id": "9ff7d5b9",
   "metadata": {},
   "source": [
    "3==3"
   ]
  },
  {
   "cell_type": "code",
   "execution_count": 1,
   "id": "960c8faf",
   "metadata": {},
   "outputs": [
    {
     "data": {
      "text/plain": [
       "False"
      ]
     },
     "execution_count": 1,
     "metadata": {},
     "output_type": "execute_result"
    }
   ],
   "source": [
    "3 == 4"
   ]
  },
  {
   "cell_type": "code",
   "execution_count": 2,
   "id": "0c21237d",
   "metadata": {},
   "outputs": [
    {
     "data": {
      "text/plain": [
       "True"
      ]
     },
     "execution_count": 2,
     "metadata": {},
     "output_type": "execute_result"
    }
   ],
   "source": [
    "3==3.0"
   ]
  },
  {
   "cell_type": "code",
   "execution_count": 3,
   "id": "b629cc1f",
   "metadata": {},
   "outputs": [
    {
     "data": {
      "text/plain": [
       "False"
      ]
     },
     "execution_count": 3,
     "metadata": {},
     "output_type": "execute_result"
    }
   ],
   "source": [
    "3==\"3\""
   ]
  },
  {
   "cell_type": "code",
   "execution_count": 4,
   "id": "b7e69a6f",
   "metadata": {},
   "outputs": [
    {
     "data": {
      "text/plain": [
       "True"
      ]
     },
     "execution_count": 4,
     "metadata": {},
     "output_type": "execute_result"
    }
   ],
   "source": [
    "3==3+0j"
   ]
  },
  {
   "cell_type": "code",
   "execution_count": null,
   "id": "213f23bc",
   "metadata": {},
   "outputs": [],
   "source": [
    "\"3\""
   ]
  }
 ],
 "metadata": {
  "kernelspec": {
   "display_name": "Python 3 (ipykernel)",
   "language": "python",
   "name": "python3"
  },
  "language_info": {
   "codemirror_mode": {
    "name": "ipython",
    "version": 3
   },
   "file_extension": ".py",
   "mimetype": "text/x-python",
   "name": "python",
   "nbconvert_exporter": "python",
   "pygments_lexer": "ipython3",
   "version": "3.11.5"
  }
 },
 "nbformat": 4,
 "nbformat_minor": 5
}
